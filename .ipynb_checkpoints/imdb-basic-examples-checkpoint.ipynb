{
 "cells": [
  {
   "cell_type": "markdown",
   "metadata": {},
   "source": [
    "# Simple Keras example of IMDB classifier\n",
    "\n",
    "Keras, Tensorflow\n",
    "\n",
    "IMDB is a set of movie reviews. Every word is given a number from a dictionary. Possible labels are: 1 (positive review), and 0 (negative review)\n",
    "\n",
    "This code is heavily inspired in section 3.4 of \"Deep Learning with Python\" book, by François Chollet\n",
    "\n",
    "**Features:**\n",
    "- Code at start avoids full GPU memory allocation. Some interesting threads about this:\n",
    "-- https://stackoverflow.com/questions/34199233/how-to-prevent-tensorflow-from-allocating-the-totality-of-a-gpu-memory\n",
    "-- https://kobkrit.com/using-allow-growth-memory-option-in-tensorflow-and-keras-dc8c8081bc96\n",
    "    \n"
   ]
  },
  {
   "cell_type": "markdown",
   "metadata": {},
   "source": [
    "**1 - import data**"
   ]
  },
  {
   "cell_type": "code",
   "execution_count": 136,
   "metadata": {
    "scrolled": true
   },
   "outputs": [],
   "source": [
    "import keras as k\n",
    "from keras.datasets import imdb\n",
    "\n",
    "dict_size = 10000\n",
    "\n",
    "(train_data, train_labels), (test_data, test_labels) = imdb.load_data(num_words=dict_size)\n",
    "word_index = imdb.get_word_index()"
   ]
  },
  {
   "cell_type": "markdown",
   "metadata": {},
   "source": [
    "**2 - input vectorization**\n",
    "\n",
    "Integer word representations are transformed in binary vectors with the size of the full dictionary. "
   ]
  },
  {
   "cell_type": "code",
   "execution_count": 137,
   "metadata": {},
   "outputs": [],
   "source": [
    "import numpy as np\n",
    "\n",
    "def vectorize_sequences(sequences, dimension=dict_size):\n",
    "    results = np.zeros((len(sequences), dimension))\n",
    "    for i, sequence in enumerate(sequences): \n",
    "        results[i, sequence] = 1\n",
    "    return results\n",
    "\n",
    "x_train = vectorize_sequences(train_data)\n",
    "x_test = vectorize_sequences(test_data)\n",
    "\n",
    "y_train = np.asarray(train_labels).astype('float32')\n",
    "y_test = np.asarray(test_labels).astype('float32')\n"
   ]
  },
  {
   "cell_type": "markdown",
   "metadata": {},
   "source": [
    "**3 - Separate validation dataset**"
   ]
  },
  {
   "cell_type": "code",
   "execution_count": 138,
   "metadata": {},
   "outputs": [],
   "source": [
    "x_val = x_train[:10000]\n",
    "partial_x_train = x_train[10000:]\n",
    "y_val = y_train[:10000]\n",
    "partial_y_train = y_train[10000:]"
   ]
  },
  {
   "cell_type": "markdown",
   "metadata": {},
   "source": [
    "**4 - Define network architecture**"
   ]
  },
  {
   "cell_type": "code",
   "execution_count": 200,
   "metadata": {},
   "outputs": [],
   "source": [
    "from keras import models\n",
    "from keras import layers\n",
    "from keras import optimizers\n",
    "from keras.layers import Dense, Dropout\n",
    "\n",
    "dropout_rate = 0.2\n",
    "\n",
    "model = models.Sequential()\n",
    "model.add(layers.Dense(16, activation='tanh', input_shape=(dict_size,)))\n",
    "model.add(Dropout(rate=dropout_rate))\n",
    "model.add(layers.Dense(32, activation='tanh'))\n",
    "model.add(Dropout(rate=dropout_rate))\n",
    "model.add(layers.Dense(1, activation='sigmoid'))\n",
    "\n",
    "#model.compile(optimizer='adam', loss='binary_crossentropy', metrics=['accuracy'])\n",
    "#model.compile(optimizer='adam', loss='mse', metrics=['accuracy'])\n",
    "model.compile(optimizer=optimizers.RMSprop(lr=0.002), loss='binary_crossentropy', metrics=['accuracy'])\n"
   ]
  },
  {
   "cell_type": "markdown",
   "metadata": {},
   "source": [
    "**5 - Train**"
   ]
  },
  {
   "cell_type": "code",
   "execution_count": 223,
   "metadata": {},
   "outputs": [
    {
     "name": "stdout",
     "output_type": "stream",
     "text": [
      "Train on 15000 samples, validate on 10000 samples\n",
      "Epoch 1/6\n",
      "15000/15000 [==============================] - 1s 100us/step - loss: 0.0421 - acc: 0.9890 - val_loss: 0.4007 - val_acc: 0.8766\n",
      "Epoch 2/6\n",
      "15000/15000 [==============================] - 1s 98us/step - loss: 0.0271 - acc: 0.9969 - val_loss: 0.4086 - val_acc: 0.8757\n",
      "Epoch 3/6\n",
      "15000/15000 [==============================] - 1s 98us/step - loss: 0.0253 - acc: 0.9971 - val_loss: 0.4178 - val_acc: 0.8750\n",
      "Epoch 4/6\n",
      "15000/15000 [==============================] - 1s 98us/step - loss: 0.0226 - acc: 0.9974 - val_loss: 0.4281 - val_acc: 0.8749\n",
      "Epoch 5/6\n",
      "15000/15000 [==============================] - 1s 97us/step - loss: 0.0204 - acc: 0.9981 - val_loss: 0.4404 - val_acc: 0.8729\n",
      "Epoch 6/6\n",
      "15000/15000 [==============================] - 1s 99us/step - loss: 0.0185 - acc: 0.9984 - val_loss: 0.4539 - val_acc: 0.8721\n"
     ]
    }
   ],
   "source": [
    "history = model.fit(partial_x_train, partial_y_train, epochs=6, batch_size=4096, validation_data=(x_val, y_val))"
   ]
  },
  {
   "cell_type": "markdown",
   "metadata": {},
   "source": [
    "**6 - Show loss performance**"
   ]
  },
  {
   "cell_type": "code",
   "execution_count": 246,
   "metadata": {},
   "outputs": [
    {
     "data": {
      "image/png": "[encoded data removed]",
      "text/plain": [
       "<Figure size 432x288 with 1 Axes>"
      ]
     },
     "metadata": {
      "needs_background": "light"
     },
     "output_type": "display_data"
    }
   ],
   "source": [
    "import matplotlib.pyplot as plt\n",
    "history_dict = history.history\n",
    "acc = history_dict['acc']\n",
    "loss_values = history_dict['loss']\n",
    "val_loss_values = history_dict['val_loss']\n",
    "\n",
    "epochs = range(1, len(acc) + 1)\n",
    "\n",
    "plt.plot(epochs, loss_values, 'bo', label='Training loss')\n",
    "plt.plot(epochs, val_loss_values, 'b', label='Validation loss')\n",
    "plt.title('Training and validation loss')\n",
    "plt.xlabel('Epochs')\n",
    "plt.ylabel('Loss')\n",
    "plt.legend()\n",
    "plt.show()"
   ]
  },
  {
   "cell_type": "code",
   "execution_count": 247,
   "metadata": {},
   "outputs": [
    {
     "data": {
      "image/png": "[encoded data removed]",
      "text/plain": [
       "<Figure size 432x288 with 1 Axes>"
      ]
     },
     "metadata": {
      "needs_background": "light"
     },
     "output_type": "display_data"
    }
   ],
   "source": [
    "plt.clf()\n",
    "acc_values = history_dict['acc']\n",
    "val_acc_values = history_dict['val_acc']\n",
    "plt.plot(epochs, acc, 'bo', label='Training acc')\n",
    "plt.plot(epochs, val_acc, 'b', label='Validation acc')\n",
    "plt.title('Training and validation accuracy')\n",
    "plt.xlabel('Epochs')\n",
    "plt.ylabel('Loss')\n",
    "plt.legend()\n",
    "plt.show()"
   ]
  },
  {
   "cell_type": "code",
   "execution_count": 248,
   "metadata": {},
   "outputs": [
    {
     "name": "stdout",
     "output_type": "stream",
     "text": [
      "25000/25000 [==============================] - 2s 97us/step\n"
     ]
    },
    {
     "data": {
      "text/plain": [
       "[0.5019360989308357, 0.86204]"
      ]
     },
     "execution_count": 248,
     "metadata": {},
     "output_type": "execute_result"
    }
   ],
   "source": [
    "results = model.evaluate(x_test, y_test)\n",
    ">>> results"
   ]
  },
  {
   "cell_type": "code",
   "execution_count": 249,
   "metadata": {},
   "outputs": [],
   "source": [
    "predictions = model.predict(x_test)"
   ]
  },
  {
   "cell_type": "markdown",
   "metadata": {},
   "source": [
    "**High confidence predictions (over 0.8 or under 0.2)**"
   ]
  },
  {
   "cell_type": "code",
   "execution_count": 250,
   "metadata": {},
   "outputs": [
    {
     "name": "stdout",
     "output_type": "stream",
     "text": [
      "0.91016\n"
     ]
    }
   ],
   "source": [
    "total_size = predictions.size\n",
    "high_confidence_predictions = sum(1 for i in predictions if i > 0.8 or i < 0.2) \n",
    "print(high_confidence_predictions / total_size)"
   ]
  },
  {
   "cell_type": "markdown",
   "metadata": {},
   "source": [
    "**Contrast single random prediction**"
   ]
  },
  {
   "cell_type": "code",
   "execution_count": 254,
   "metadata": {},
   "outputs": [
    {
     "name": "stdout",
     "output_type": "stream",
     "text": [
      "index:  4953\n",
      "? well i hated knocked up i ? 40 year old virgin and this little gem is a worthless piece of trash movie do yourself a favor and skip it i admit i don't like the actors in this movie and after my 18 year old son showed me the cover of the dvd i was like i wouldn't like that movie but at his ? i decided to give it a try unfortunately br br about two minutes into the movie i turned it off i was so offended it's just disgusting any decent person would be offended by the filth in this movie call me old fashioned but ? your ? juice covered hand into your friend's face so he will know you got some is over the line of decency in my opinion yeah that's how this ? little film starts and i can only imagine it gets much worse from there another real winner for mr rudd i bet he's proud as punch imagine if you could only get worthless roles like he gets would you stay in movies despite the pay i wouldn't br br i should have known better next time i will\n",
      "1 [0.9997316]\n"
     ]
    }
   ],
   "source": [
    "import random\n",
    "\n",
    "def decode_review(index):\n",
    "    reverse_word_index = dict([(value, key) for (key, value) in word_index.items()])\n",
    "    decoded_review = ' '.join([reverse_word_index.get(i - 3, '?') for i in train_data[index]])\n",
    "    return decoded_review\n",
    "\n",
    "rnd =  random.randint(1,test_data.size)\n",
    "print('index: ', rnd)\n",
    "print(decode_review(rnd))\n",
    "print(test_labels[rnd], predictions[rnd])"
   ]
  },
  {
   "cell_type": "code",
   "execution_count": null,
   "metadata": {},
   "outputs": [],
   "source": []
  }
 ],
 "metadata": {
  "kernelspec": {
   "display_name": "Python 3",
   "language": "python",
   "name": "python3"
  },
  "language_info": {
   "codemirror_mode": {
    "name": "ipython",
    "version": 3
   },
   "file_extension": ".py",
   "mimetype": "text/x-python",
   "name": "python",
   "nbconvert_exporter": "python",
   "pygments_lexer": "ipython3",
   "version": "3.7.3"
  }
 },
 "nbformat": 4,
 "nbformat_minor": 2
}
